{
 "cells": [
  {
   "cell_type": "code",
   "execution_count": 1,
   "metadata": {
    "ExecuteTime": {
     "end_time": "2019-05-10T22:59:50.433846Z",
     "start_time": "2019-05-10T22:59:47.756113Z"
    }
   },
   "outputs": [
    {
     "name": "stdout",
     "output_type": "stream",
     "text": [
      "Collecting vaderSentiment\n",
      "\u001b[?25l  Downloading https://files.pythonhosted.org/packages/86/9e/c53e1fc61aac5ee490a6ac5e21b1ac04e55a7c2aba647bb8411c9aadf24e/vaderSentiment-3.2.1-py2.py3-none-any.whl (125kB)\n",
      "\u001b[K    100% |████████████████████████████████| 133kB 5.9MB/s ta 0:00:01\n",
      "\u001b[?25hInstalling collected packages: vaderSentiment\n",
      "Successfully installed vaderSentiment-3.2.1\n"
     ]
    }
   ],
   "source": [
    "!pip install vaderSentiment"
   ]
  },
  {
   "cell_type": "code",
   "execution_count": 2,
   "metadata": {
    "ExecuteTime": {
     "end_time": "2019-05-10T23:00:53.768273Z",
     "start_time": "2019-05-10T23:00:53.587009Z"
    }
   },
   "outputs": [],
   "source": [
    "from vaderSentiment.vaderSentiment import SentimentIntensityAnalyzer\n",
    "analyser = SentimentIntensityAnalyzer()"
   ]
  },
  {
   "cell_type": "code",
   "execution_count": 5,
   "metadata": {
    "ExecuteTime": {
     "end_time": "2019-05-10T23:02:18.280476Z",
     "start_time": "2019-05-10T23:02:18.275470Z"
    }
   },
   "outputs": [],
   "source": [
    "def sentiment_analyzer_scores(sentence):\n",
    "    score = analyser.polarity_scores(sentence)\n",
    "    print(\"{:-<40} {}\".format(sentence, str(score)))"
   ]
  },
  {
   "cell_type": "code",
   "execution_count": 11,
   "metadata": {
    "ExecuteTime": {
     "end_time": "2019-05-10T23:16:24.915044Z",
     "start_time": "2019-05-10T23:16:24.907434Z"
    }
   },
   "outputs": [
    {
     "name": "stdout",
     "output_type": "stream",
     "text": [
      "I have been working at Four Winds Interactive full-time More than a year Pros Great company to work for. Wonderful people and culture. The People Ops team and the entire leadership team care a lot about our people. From Town Halls to monthly company-wide communications, the effort to have lots of transparency during times of change is remarkable. The benefits are competitive for the industry and they have made strides in their approach to paying at market. Cons No company is perfect but FWI does a great job listening to employees and does their best to make people feel valued. Advice to Management Keep doing what you're doing. {'neg': 0.013, 'neu': 0.746, 'pos': 0.241, 'compound': 0.9808}\n"
     ]
    }
   ],
   "source": [
    "sentiment_analyzer_scores(\"I have been working at Four Winds Interactive full-time More than a year Great company to work for. Wonderful people and culture. The People Ops team and the entire leadership team care a lot about our people. From Town Halls to monthly company-wide communications, the effort to have lots of transparency during times of change is remarkable. The benefits are competitive for the industry and they have made strides in their approach to paying at market. Cons No company is perfect but FWI does a great job listening to employees and does their best to make people feel valued. Advice to Management Keep doing what you're doing.\")"
   ]
  },
  {
   "cell_type": "code",
   "execution_count": 13,
   "metadata": {
    "ExecuteTime": {
     "end_time": "2019-05-10T23:25:00.251700Z",
     "start_time": "2019-05-10T23:25:00.238607Z"
    }
   },
   "outputs": [
    {
     "name": "stdout",
     "output_type": "stream",
     "text": [
      "I have been working at Four Winds Interactive full-time for more than 6 years. A vendor brings in bagels on Wednesday’s. Flexible PTO I’m going to sound just bitter... but I can only say, i don’t know many happy employees here. If you are drinking with the President, or personal friends with the c-suite, you will be ok. The rest of us. Not so much, It’s a culture where you really can’t have a view point at all different from the investor or exec agenda. I have seen people run out of the company for voicing a different view. I’ve see terrible, incompetent employees retained and promoted because of personal relationships with the right people. Through all my years I have seen good people being treated terribly b/c of an old grudge by the CEO. I’m so disheartened by a culture where, maybe a few people care, but for the most part it’s dog eat dog. I do not feel comfortable going to HR with my concerns. This group seems to play favorites, and they seem super inauthentic. Im out ASAP. Start valuing people. Provide equity now that you have investors. Upgrade leadership. Provide a safe place for people to voice concerns. Nobody feels safe talking to their manager or HR. {'neg': 0.09, 'neu': 0.712, 'pos': 0.198, 'compound': 0.9776}\n"
     ]
    }
   ],
   "source": [
    "sentiment_analyzer_scores(\"I have been working at Four Winds Interactive full-time for more than 6 years. A vendor brings in bagels on Wednesday’s. Flexible PTO I’m going to sound just bitter... but I can only say, i don’t know many happy employees here. If you are drinking with the President, or personal friends with the c-suite, you will be ok. The rest of us. Not so much, It’s a culture where you really can’t have a view point at all different from the investor or exec agenda. I have seen people run out of the company for voicing a different view. I’ve see terrible, incompetent employees retained and promoted because of personal relationships with the right people. Through all my years I have seen good people being treated terribly b/c of an old grudge by the CEO. I’m so disheartened by a culture where, maybe a few people care, but for the most part it’s dog eat dog. I do not feel comfortable going to HR with my concerns. This group seems to play favorites, and they seem super inauthentic. Im out ASAP. Start valuing people. Provide equity now that you have investors. Upgrade leadership. Provide a safe place for people to voice concerns. Nobody feels safe talking to their manager or HR.\")"
   ]
  },
  {
   "cell_type": "code",
   "execution_count": null,
   "metadata": {},
   "outputs": [],
   "source": []
  }
 ],
 "metadata": {
  "kernelspec": {
   "display_name": "Python 3",
   "language": "python",
   "name": "python3"
  },
  "language_info": {
   "codemirror_mode": {
    "name": "ipython",
    "version": 3
   },
   "file_extension": ".py",
   "mimetype": "text/x-python",
   "name": "python",
   "nbconvert_exporter": "python",
   "pygments_lexer": "ipython3",
   "version": "3.7.1"
  }
 },
 "nbformat": 4,
 "nbformat_minor": 2
}
