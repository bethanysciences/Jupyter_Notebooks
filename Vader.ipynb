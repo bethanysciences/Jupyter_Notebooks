{
 "cells": [
  {
   "cell_type": "code",
   "execution_count": 2,
   "metadata": {
    "ExecuteTime": {
     "end_time": "2019-05-10T22:59:50.433846Z",
     "start_time": "2019-05-10T22:59:47.756113Z"
    }
   },
   "outputs": [
    {
     "name": "stdout",
     "output_type": "stream",
     "text": [
      "Collecting vaderSentiment\n",
      "  Downloading vaderSentiment-3.3.2-py2.py3-none-any.whl (125 kB)\n",
      "\u001b[K     |████████████████████████████████| 125 kB 1.4 MB/s eta 0:00:01\n",
      "\u001b[?25hRequirement already satisfied: requests in /usr/local/lib/python3.7/site-packages (from vaderSentiment) (2.22.0)\n",
      "Requirement already satisfied: idna<2.9,>=2.5 in /usr/local/lib/python3.7/site-packages (from requests->vaderSentiment) (2.8)\n",
      "Requirement already satisfied: chardet<3.1.0,>=3.0.2 in /usr/local/lib/python3.7/site-packages (from requests->vaderSentiment) (3.0.4)\n",
      "Requirement already satisfied: certifi>=2017.4.17 in /usr/local/lib/python3.7/site-packages (from requests->vaderSentiment) (2019.11.28)\n",
      "Requirement already satisfied: urllib3!=1.25.0,!=1.25.1,<1.26,>=1.21.1 in /usr/local/lib/python3.7/site-packages (from requests->vaderSentiment) (1.25.7)\n",
      "Installing collected packages: vaderSentiment\n",
      "Successfully installed vaderSentiment-3.3.2\n",
      "\u001b[33mWARNING: You are using pip version 20.0.2; however, version 20.1.1 is available.\n",
      "You should consider upgrading via the '/usr/local/opt/python/bin/python3.7 -m pip install --upgrade pip' command.\u001b[0m\n"
     ]
    }
   ],
   "source": [
    "!pip install vaderSentiment"
   ]
  },
  {
   "cell_type": "code",
   "execution_count": 3,
   "metadata": {
    "ExecuteTime": {
     "end_time": "2019-05-10T23:00:53.768273Z",
     "start_time": "2019-05-10T23:00:53.587009Z"
    }
   },
   "outputs": [],
   "source": [
    "from vaderSentiment.vaderSentiment import SentimentIntensityAnalyzer\n",
    "analyser = SentimentIntensityAnalyzer()"
   ]
  },
  {
   "cell_type": "code",
   "execution_count": 4,
   "metadata": {
    "ExecuteTime": {
     "end_time": "2019-05-10T23:02:18.280476Z",
     "start_time": "2019-05-10T23:02:18.275470Z"
    }
   },
   "outputs": [],
   "source": [
    "def sentiment_analyzer_scores(sentence):\n",
    "    score = analyser.polarity_scores(sentence)\n",
    "    print(\"{:-<40} {}\".format(sentence, str(score)))"
   ]
  },
  {
   "cell_type": "code",
   "execution_count": 5,
   "metadata": {
    "ExecuteTime": {
     "end_time": "2019-05-10T23:16:24.915044Z",
     "start_time": "2019-05-10T23:16:24.907434Z"
    }
   },
   "outputs": [
    {
     "name": "stdout",
     "output_type": "stream",
     "text": [
      "I have been working at Four Winds Interactive full-time More than a year Great company to work for. Wonderful people and culture. The People Ops team and the entire leadership team care a lot about our people. From Town Halls to monthly company-wide communications, the effort to have lots of transparency during times of change is remarkable. The benefits are competitive for the industry and they have made strides in their approach to paying at market. Cons No company is perfect but FWI does a great job listening to employees and does their best to make people feel valued. Advice to Management Keep doing what you're doing. {'neg': 0.013, 'neu': 0.752, 'pos': 0.236, 'compound': 0.9808}\n"
     ]
    }
   ],
   "source": [
    "sentiment_analyzer_scores(\"I have been working at Four Winds Interactive full-time More than a year Great company to work for. Wonderful people and culture. The People Ops team and the entire leadership team care a lot about our people. From Town Halls to monthly company-wide communications, the effort to have lots of transparency during times of change is remarkable. The benefits are competitive for the industry and they have made strides in their approach to paying at market. Cons No company is perfect but FWI does a great job listening to employees and does their best to make people feel valued. Advice to Management Keep doing what you're doing.\")"
   ]
  },
  {
   "cell_type": "code",
   "execution_count": 6,
   "metadata": {
    "ExecuteTime": {
     "end_time": "2019-05-10T23:25:00.251700Z",
     "start_time": "2019-05-10T23:25:00.238607Z"
    }
   },
   "outputs": [
    {
     "name": "stdout",
     "output_type": "stream",
     "text": [
      "I have been working at Four Winds Interactive full-time for more than 6 years. A vendor brings in bagels on Wednesday’s. Flexible PTO I’m going to sound just bitter... but I can only say, i don’t know many happy employees here. If you are drinking with the President, or personal friends with the c-suite, you will be ok. The rest of us. Not so much, It’s a culture where you really can’t have a view point at all different from the investor or exec agenda. I have seen people run out of the company for voicing a different view. I’ve see terrible, incompetent employees retained and promoted because of personal relationships with the right people. Through all my years I have seen good people being treated terribly b/c of an old grudge by the CEO. I’m so disheartened by a culture where, maybe a few people care, but for the most part it’s dog eat dog. I do not feel comfortable going to HR with my concerns. This group seems to play favorites, and they seem super inauthentic. Im out ASAP. Start valuing people. Provide equity now that you have investors. Upgrade leadership. Provide a safe place for people to voice concerns. Nobody feels safe talking to their manager or HR. {'neg': 0.093, 'neu': 0.73, 'pos': 0.177, 'compound': 0.9693}\n"
     ]
    }
   ],
   "source": [
    "sentiment_analyzer_scores(\"I have been working at Four Winds Interactive full-time for more than 6 years. A vendor brings in bagels on Wednesday’s. Flexible PTO I’m going to sound just bitter... but I can only say, i don’t know many happy employees here. If you are drinking with the President, or personal friends with the c-suite, you will be ok. The rest of us. Not so much, It’s a culture where you really can’t have a view point at all different from the investor or exec agenda. I have seen people run out of the company for voicing a different view. I’ve see terrible, incompetent employees retained and promoted because of personal relationships with the right people. Through all my years I have seen good people being treated terribly b/c of an old grudge by the CEO. I’m so disheartened by a culture where, maybe a few people care, but for the most part it’s dog eat dog. I do not feel comfortable going to HR with my concerns. This group seems to play favorites, and they seem super inauthentic. Im out ASAP. Start valuing people. Provide equity now that you have investors. Upgrade leadership. Provide a safe place for people to voice concerns. Nobody feels safe talking to their manager or HR.\")"
   ]
  },
  {
   "cell_type": "code",
   "execution_count": 7,
   "metadata": {},
   "outputs": [
    {
     "name": "stdout",
     "output_type": "stream",
     "text": [
      "Collecting fizz-buzz\n",
      "  Downloading fizz-buzz-1.2.0.tar.gz (1.1 kB)\n",
      "\u001b[31m    ERROR: Command errored out with exit status 1:\n",
      "     command: /usr/local/opt/python/bin/python3.7 -c 'import sys, setuptools, tokenize; sys.argv[0] = '\"'\"'/private/var/folders/7y/qkrscdtj7w93shr63dbl5hlw0000gn/T/pip-install-y7xz2_kd/fizz-buzz/setup.py'\"'\"'; __file__='\"'\"'/private/var/folders/7y/qkrscdtj7w93shr63dbl5hlw0000gn/T/pip-install-y7xz2_kd/fizz-buzz/setup.py'\"'\"';f=getattr(tokenize, '\"'\"'open'\"'\"', open)(__file__);code=f.read().replace('\"'\"'\\r\\n'\"'\"', '\"'\"'\\n'\"'\"');f.close();exec(compile(code, __file__, '\"'\"'exec'\"'\"'))' egg_info --egg-base /private/var/folders/7y/qkrscdtj7w93shr63dbl5hlw0000gn/T/pip-install-y7xz2_kd/fizz-buzz/pip-egg-info\n",
      "         cwd: /private/var/folders/7y/qkrscdtj7w93shr63dbl5hlw0000gn/T/pip-install-y7xz2_kd/fizz-buzz/\n",
      "    Complete output (5 lines):\n",
      "    Traceback (most recent call last):\n",
      "      File \"<string>\", line 1, in <module>\n",
      "      File \"/private/var/folders/7y/qkrscdtj7w93shr63dbl5hlw0000gn/T/pip-install-y7xz2_kd/fizz-buzz/setup.py\", line 2, in <module>\n",
      "        from pip.req import parse_requirements\n",
      "    ModuleNotFoundError: No module named 'pip.req'\n",
      "    ----------------------------------------\u001b[0m\n",
      "\u001b[31mERROR: Command errored out with exit status 1: python setup.py egg_info Check the logs for full command output.\u001b[0m\n",
      "\u001b[33mWARNING: You are using pip version 20.0.2; however, version 20.1.1 is available.\n",
      "You should consider upgrading via the '/usr/local/opt/python/bin/python3.7 -m pip install --upgrade pip' command.\u001b[0m\n"
     ]
    }
   ],
   "source": [
    "!pip install fizz-buzz"
   ]
  },
  {
   "cell_type": "code",
   "execution_count": 8,
   "metadata": {},
   "outputs": [
    {
     "name": "stdout",
     "output_type": "stream",
     "text": [
      "Collecting fizzbuzzy\n",
      "  Downloading fizzbuzzy-0.0.1.tar.gz (2.1 kB)\n",
      "Building wheels for collected packages: fizzbuzzy\n",
      "  Building wheel for fizzbuzzy (setup.py) ... \u001b[?25ldone\n",
      "\u001b[?25h  Created wheel for fizzbuzzy: filename=fizzbuzzy-0.0.1-py3-none-any.whl size=2448 sha256=bb8bdbf007e98bce13c6317ba4468675f10e2f0cd9cbdb36226a40640a3b18d6\n",
      "  Stored in directory: /Users/bobbysmith/Library/Caches/pip/wheels/ee/59/9b/e34bbf3d76ef28156fe355e9477e5149e82177500e7c264f50\n",
      "Successfully built fizzbuzzy\n",
      "Installing collected packages: fizzbuzzy\n",
      "Successfully installed fizzbuzzy-0.0.1\n",
      "\u001b[33mWARNING: You are using pip version 20.0.2; however, version 20.1.1 is available.\n",
      "You should consider upgrading via the '/usr/local/opt/python/bin/python3.7 -m pip install --upgrade pip' command.\u001b[0m\n"
     ]
    }
   ],
   "source": [
    "!pip install fizzbuzzy"
   ]
  },
  {
   "cell_type": "code",
   "execution_count": 9,
   "metadata": {},
   "outputs": [
    {
     "name": "stdout",
     "output_type": "stream",
     "text": [
      "FizzBuzz\n",
      "1\n",
      "2\n",
      "Fizz\n",
      "4\n",
      "Buzz\n",
      "Fizz\n",
      "7\n",
      "8\n",
      "Fizz\n",
      "Buzz\n",
      "11\n",
      "Fizz\n",
      "13\n",
      "14\n",
      "FizzBuzz\n",
      "16\n",
      "17\n",
      "Fizz\n",
      "19\n",
      "Buzz\n",
      "Fizz\n",
      "22\n",
      "23\n",
      "Fizz\n",
      "Buzz\n",
      "26\n",
      "Fizz\n",
      "28\n",
      "29\n",
      "FizzBuzz\n",
      "31\n",
      "32\n",
      "Fizz\n",
      "34\n",
      "Buzz\n",
      "Fizz\n",
      "37\n",
      "38\n",
      "Fizz\n",
      "Buzz\n",
      "41\n",
      "Fizz\n",
      "43\n",
      "44\n",
      "FizzBuzz\n",
      "46\n",
      "47\n",
      "Fizz\n",
      "49\n",
      "Buzz\n",
      "Fizz\n",
      "52\n",
      "53\n",
      "Fizz\n",
      "Buzz\n",
      "56\n",
      "Fizz\n",
      "58\n",
      "59\n",
      "FizzBuzz\n",
      "61\n",
      "62\n",
      "Fizz\n",
      "64\n",
      "Buzz\n",
      "Fizz\n",
      "67\n",
      "68\n",
      "Fizz\n",
      "Buzz\n",
      "71\n",
      "Fizz\n",
      "73\n",
      "74\n",
      "FizzBuzz\n",
      "76\n",
      "77\n",
      "Fizz\n",
      "79\n",
      "Buzz\n",
      "Fizz\n",
      "82\n",
      "83\n",
      "Fizz\n",
      "Buzz\n",
      "86\n",
      "Fizz\n",
      "88\n",
      "89\n",
      "FizzBuzz\n",
      "91\n",
      "92\n",
      "Fizz\n",
      "94\n",
      "Buzz\n",
      "Fizz\n",
      "97\n",
      "98\n",
      "Fizz\n",
      "Time taken for execution : 0 seconds\n"
     ]
    }
   ],
   "source": [
    "from fizzbuzz.fizzbuzz import looprange\n",
    "looprange('100')"
   ]
  },
  {
   "cell_type": "code",
   "execution_count": null,
   "metadata": {},
   "outputs": [],
   "source": []
  }
 ],
 "metadata": {
  "kernelspec": {
   "display_name": "Python 3",
   "language": "python",
   "name": "python3"
  },
  "language_info": {
   "codemirror_mode": {
    "name": "ipython",
    "version": 3
   },
   "file_extension": ".py",
   "mimetype": "text/x-python",
   "name": "python",
   "nbconvert_exporter": "python",
   "pygments_lexer": "ipython3",
   "version": "3.7.7"
  }
 },
 "nbformat": 4,
 "nbformat_minor": 2
}
