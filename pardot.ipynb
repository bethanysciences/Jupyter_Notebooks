{
 "cells": [
  {
   "cell_type": "markdown",
   "metadata": {},
   "source": [
    "# Pardot Toolbox\n",
    "  \n",
    "[Pardot API V3 Python Client](https://github.com/maxnaude/pardot-api-client) `!pip install pardot-api-client`  \n",
    "[Requires requests](http://docs.python-requests.org/en/latest/) `!pip install requests`\n",
    "  \n",
    "set file as /root/.sfdc with credentials:  \n",
    "` username<cr>sf password<cr>sf token<cr>pardot password<cr>pardot token<cr>`"
   ]
  },
  {
   "cell_type": "code",
   "execution_count": 29,
   "metadata": {
    "ExecuteTime": {
     "end_time": "2019-06-12T04:27:42.809340Z",
     "start_time": "2019-06-12T04:27:42.794854Z"
    }
   },
   "outputs": [
    {
     "name": "stdout",
     "output_type": "stream",
     "text": [
      "@  2019-06-12 04:27:42.804077+00:00\n"
     ]
    }
   ],
   "source": [
    "import io\n",
    "import sys\n",
    "import numpy as np\n",
    "import IPython\n",
    "import pandas as pd\n",
    "from pandas.io.json import json_normalize\n",
    "import xlrd\n",
    "import pytz\n",
    "import datetime\n",
    "import json\n",
    "import requests\n",
    "from pardot.client import APIClient\n",
    "with open('.sfdc') as f:\n",
    "    uname, spwd, stoken, ppwd, ptoken = [x.strip(\"\\n\") for x in f.readlines()]\n",
    "end = datetime.datetime.now(pytz.UTC)\n",
    "print(\"@ \", end)\n",
    "client = APIClient(uname, ppwd, ptoken)"
   ]
  },
  {
   "cell_type": "code",
   "execution_count": 30,
   "metadata": {
    "ExecuteTime": {
     "end_time": "2019-06-12T04:27:48.811552Z",
     "start_time": "2019-06-12T04:27:47.747849Z"
    }
   },
   "outputs": [],
   "source": [
    "results = client.prospect.query(limit=3, output='simple', format='json')"
   ]
  },
  {
   "cell_type": "code",
   "execution_count": 37,
   "metadata": {
    "ExecuteTime": {
     "end_time": "2019-06-12T04:36:26.411196Z",
     "start_time": "2019-06-12T04:36:26.397404Z"
    }
   },
   "outputs": [
    {
     "ename": "TypeError",
     "evalue": "dump() missing 1 required positional argument: 'fp'",
     "output_type": "error",
     "traceback": [
      "\u001b[0;31m---------------------------------------------------------------------------\u001b[0m",
      "\u001b[0;31mTypeError\u001b[0m                                 Traceback (most recent call last)",
      "\u001b[0;32m<ipython-input-37-6088ea76a0ef>\u001b[0m in \u001b[0;36m<module>\u001b[0;34m\u001b[0m\n\u001b[1;32m      1\u001b[0m \u001b[0;31m# df = pd.DataFrame.from_dict(results, orient='columns')\u001b[0m\u001b[0;34m\u001b[0m\u001b[0;34m\u001b[0m\u001b[0;34m\u001b[0m\u001b[0m\n\u001b[1;32m      2\u001b[0m \u001b[0;31m# df = pd.DataFrame.from_dict(json_normalize(results), orient='columns')\u001b[0m\u001b[0;34m\u001b[0m\u001b[0;34m\u001b[0m\u001b[0;34m\u001b[0m\u001b[0m\n\u001b[0;32m----> 3\u001b[0;31m \u001b[0mjson\u001b[0m\u001b[0;34m.\u001b[0m\u001b[0mdump\u001b[0m\u001b[0;34m(\u001b[0m\u001b[0mresults\u001b[0m\u001b[0;34m)\u001b[0m\u001b[0;34m\u001b[0m\u001b[0;34m\u001b[0m\u001b[0m\n\u001b[0m",
      "\u001b[0;31mTypeError\u001b[0m: dump() missing 1 required positional argument: 'fp'"
     ]
    }
   ],
   "source": [
    "# df = pd.DataFrame.from_dict(results, orient='columns')\n",
    "# df = pd.DataFrame.from_dict(json_normalize(results), orient='columns')\n",
    "json.dump(results)"
   ]
  },
  {
   "cell_type": "code",
   "execution_count": 36,
   "metadata": {
    "ExecuteTime": {
     "end_time": "2019-06-12T04:30:04.674337Z",
     "start_time": "2019-06-12T04:30:04.653146Z"
    }
   },
   "outputs": [
    {
     "data": {
      "text/html": [
       "<div>\n",
       "<style scoped>\n",
       "    .dataframe tbody tr th:only-of-type {\n",
       "        vertical-align: middle;\n",
       "    }\n",
       "\n",
       "    .dataframe tbody tr th {\n",
       "        vertical-align: top;\n",
       "    }\n",
       "\n",
       "    .dataframe thead th {\n",
       "        text-align: right;\n",
       "    }\n",
       "</style>\n",
       "<table border=\"1\" class=\"dataframe\">\n",
       "  <thead>\n",
       "    <tr style=\"text-align: right;\">\n",
       "      <th></th>\n",
       "      <th>@attributes.stat</th>\n",
       "      <th>@attributes.version</th>\n",
       "      <th>result.prospect</th>\n",
       "      <th>result.total_results</th>\n",
       "    </tr>\n",
       "  </thead>\n",
       "  <tbody>\n",
       "    <tr>\n",
       "      <th>0</th>\n",
       "      <td>ok</td>\n",
       "      <td>1</td>\n",
       "      <td>[{'id': 4399059, 'campaign_id': 1351, 'salutat...</td>\n",
       "      <td>603835</td>\n",
       "    </tr>\n",
       "  </tbody>\n",
       "</table>\n",
       "</div>"
      ],
      "text/plain": [
       "  @attributes.stat  @attributes.version  \\\n",
       "0               ok                    1   \n",
       "\n",
       "                                     result.prospect  result.total_results  \n",
       "0  [{'id': 4399059, 'campaign_id': 1351, 'salutat...                603835  "
      ]
     },
     "execution_count": 36,
     "metadata": {},
     "output_type": "execute_result"
    }
   ],
   "source": [
    "df"
   ]
  },
  {
   "cell_type": "markdown",
   "metadata": {},
   "source": [
    "### [Pardot API V3](http://developer.pardot.com)\n",
    "\n",
    "Pardot only returns 200 records with each request  \n",
    "Use offset to retrieve matching records beyond this limit \n",
    "  \n",
    "Parameter     | Req | Description\n",
    "--------------|-----|--------------------------------------|  \n",
    "object        |  y  | API request object  \n",
    "op            |  y  | specified object operation performed  \n",
    "id_field      |  y  | specified object identifier field  \n",
    "id            |  y  | specified object(s) identifier  \n",
    "your_api_key  |  y  | obtained authentication key  \n",
    "your_user_key |  y  | user key  \n",
    "format        |  n  | data format xml_default_ or json\n",
    "params        |  n  | request parameterr  \n",
    "\n",
    "objects: Account, Campaign, Custom Field, Custom Redirect, Dynamic Content, Email, Email Clicks, Form, Identified Company, Lifecycle History, Lifecycle Stage, List, List Membership, Opportunity, Profile, Profile Criteria, Prospect, Prospect Account, Tag, Tag Object, User, Visit, Visitor, Visitor Activity, Visitor Page View, Visitor Referrer\n",
    "\n",
    "operators: query, assign, unassign, create, read, update, upsert, delete\n",
    "\n",
    "result switches: limit, offset, sort_by, sort_order\n",
    "\n",
    "```python\n",
    "RESOURCE_OPERATIONS  \n",
    "    list: {\n",
    "        query: [()],\n",
    "        read: [('id', )],\n",
    "    listMembership': {\n",
    "        query: [()],\n",
    "        'read': [('id', ), ('list_id', 'prospect_id')],\n",
    "    opportunity\n",
    "        query\n",
    "        read': [('id', )],\n",
    "    'prospect': {\n",
    "        'query': [()],\n",
    "        'read': [('email', ), ('id', )],\n",
    "    'prospectAccount': {\n",
    "        'query': [()],\n",
    "        'read': [('id', )],\n",
    "    'tag': {\n",
    "        'query': [()],\n",
    "        'read': [('id', )]\n",
    "    'tagObject': {\n",
    "        'query': [()],\n",
    "        'read': [('id', )]\n",
    "    'user': {\n",
    "        'query': [()],\n",
    "        'read': [('email', ), ('id', )]\n",
    "    'visit': {\n",
    "        'query': [('visitor_ids', 'prospect_ids)')],\n",
    "        'read': [('id', )]\n",
    "    'visitor': {\n",
    "        'assign': [('id', )],\n",
    "        'query': [()],\n",
    "        'read': [('id', )]\n",
    "    'visitorActivity': {\n",
    "        'query': [('search_criteria', 'result_set_criteria')],\n",
    "        'read': [('id', )],\n",
    "```"
   ]
  },
  {
   "cell_type": "code",
   "execution_count": null,
   "metadata": {},
   "outputs": [],
   "source": []
  }
 ],
 "metadata": {
  "kernelspec": {
   "display_name": "Python 3",
   "language": "python",
   "name": "python3"
  },
  "language_info": {
   "codemirror_mode": {
    "name": "ipython",
    "version": 3
   },
   "file_extension": ".py",
   "mimetype": "text/x-python",
   "name": "python",
   "nbconvert_exporter": "python",
   "pygments_lexer": "ipython3",
   "version": "3.7.1"
  }
 },
 "nbformat": 4,
 "nbformat_minor": 2
}
