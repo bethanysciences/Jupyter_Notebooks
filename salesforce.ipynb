{
 "cells": [
  {
   "cell_type": "markdown",
   "metadata": {},
   "source": [
    "## [Salesforce Rest API](https://github.com/cghall/force-retrieve)"
   ]
  },
  {
   "cell_type": "code",
   "execution_count": 33,
   "metadata": {
    "ExecuteTime": {
     "end_time": "2019-06-23T16:41:44.555401Z",
     "start_time": "2019-06-23T16:41:44.548817Z"
    }
   },
   "outputs": [],
   "source": [
    "import io\n",
    "import sys\n",
    "import os\n",
    "# import os.path\n",
    "# from pathlib import Path\n",
    "from os.path import expanduser as ospath\n",
    "import numpy as np\n",
    "import pandas as pd\n",
    "from collections import OrderedDict\n",
    "import pytz\n",
    "import datetime\n",
    "from simple_salesforce import Salesforce\n",
    "from salesforce_reporting import Connection, ReportParser\n",
    "excel_path = \"~/Four Winds Interactive/Marketing - Documents/s_data/\"            # directory - case sensistve\n",
    "excel_file = \"pardot.xlsx\"                                                       # excel file - case sensistve"
   ]
  },
  {
   "cell_type": "code",
   "execution_count": 34,
   "metadata": {
    "ExecuteTime": {
     "end_time": "2019-06-23T16:41:47.560225Z",
     "start_time": "2019-06-23T16:41:47.055246Z"
    }
   },
   "outputs": [
    {
     "name": "stdout",
     "output_type": "stream",
     "text": [
      "@  2019-06-23 16:41:47.557563+00:00\n"
     ]
    }
   ],
   "source": [
    "passfile = os.path.expanduser(os.path.join(\"~/\", \".sfdc\"))\n",
    "with open(passfile) as f:       # read in authentication params\n",
    "    uname, spass, stoken, ppass, ptoken = [x.strip(\"\\n\") for x in f.readlines()]\n",
    "sf = Salesforce(username=uname, password=spass, security_token=stoken)      # authenticate\n",
    "end = datetime.datetime.now(pytz.UTC)                                       # salesforce API requires UTC\n",
    "print(\"@ \", end)"
   ]
  },
  {
   "cell_type": "code",
   "execution_count": 35,
   "metadata": {
    "ExecuteTime": {
     "end_time": "2019-06-23T16:41:50.772377Z",
     "start_time": "2019-06-23T16:41:50.010690Z"
    }
   },
   "outputs": [],
   "source": [
    "soql_opty = \"queries/q_opty.sql\"                                  # stored query\n",
    "sheet_id_opty = \"id_opty\"                                         # sheet - case sensistve\n",
    "with open(soql_opty, 'r') as file:                                # get opty soql query from file\n",
    "    soql_opty = file.read().replace('\\n','')                      # remove line breaks\n",
    "    soql_opty = soql_opty.replace('\\t','')                        # remove tabs\n",
    "opty_id = pd.read_excel(excel_path + excel_file, sheet_id_opty)   # read ids from excel file\n",
    "opty_id = tuple(list(opty_id['x18ContactID']))                    # convert dataframe column to list then tuple\n",
    "opty_id = \"','\".join(opty_id)                                     # convert tuple to comma sep string\n",
    "soql_opty = soql_opty + \"'\" + opty_id + \"')\"\n",
    "q_opty = sf.query(soql_opty)\n",
    "records = [dict(\n",
    "      IndVert=rec['Account']['Industry_Vertical__c'],\n",
    "         Name=rec['Account']['Name'],\n",
    "     optysAct=rec['Account']['of_Active_Opps__c'],\n",
    "     optyss30=rec['Account']['of_Opps_Created_Last_30_Days__c'],\n",
    "     optyssYr=rec['Account']['of_Opps_Created_this_Calendar_Year__c'],\n",
    "     x18actid=rec['Account']['X18_Digit_ID__c']) \n",
    "    for rec in q_opty['records']]\n",
    "df_opty = pd.DataFrame(records)\n",
    "df_opty.to_csv(excel_path + 'p_opty.csv')"
   ]
  },
  {
   "cell_type": "code",
   "execution_count": 36,
   "metadata": {
    "ExecuteTime": {
     "end_time": "2019-06-23T16:41:53.841512Z",
     "start_time": "2019-06-23T16:41:53.417796Z"
    }
   },
   "outputs": [],
   "source": [
    "soql_lead = \"queries/q_lead.sql\"                                   # stored query\n",
    "sheet_id_lead = \"email_lead\"                                       # sheet - case sensistve\n",
    "with open(soql_lead, 'r') as file:                                 # get lead soql query from file\n",
    "    soql_lead = file.read().replace('\\n','')                       # remove line breaks\n",
    "    soql_lead = soql_lead.replace('\\t','')                         # remove tabs\n",
    "lead_email = pd.read_excel(excel_path + excel_file, sheet_id_lead) # read ids from excel file\n",
    "lead_email = tuple(list(lead_email['Email']))                      # dataframe column to list to tuple\n",
    "lead_email = \"','\".join(lead_email)                                # tuple to comma sep string\n",
    "soql_lead = soql_lead + \"'\" + lead_email + \"')\"\n",
    "q_lead = sf.query(soql_lead)\n",
    "records = [dict(\n",
    "           IndustryVertical=rec['Industry_Vertical__c'],\n",
    "                      Email=rec['Email'],\n",
    "                 LeadSource=rec['LeadSource'],\n",
    "                    Company=rec['Company'],\n",
    "                CreatedDate=rec['CreatedDate'],\n",
    "                   LeadType=rec['Lead_Type__c'],\n",
    "          UnqualifiedReason=rec['Unqualified_Reason__c'],\n",
    "                         Id=rec['Id'],\n",
    "         ConvertedAccountId=rec['ConvertedAccountId'],\n",
    "     ConvertedOpportunityId=rec['ConvertedOpportunityId'],\n",
    "         ConvertedContactId=rec['ConvertedContactId'])\n",
    "    for rec in q_lead['records']]\n",
    "df_lead = pd.DataFrame(records)\n",
    "df_lead.to_csv(excel_path + 'p_lead.csv')"
   ]
  },
  {
   "cell_type": "code",
   "execution_count": 245,
   "metadata": {
    "ExecuteTime": {
     "end_time": "2019-06-23T03:34:19.034449Z",
     "start_time": "2019-06-23T03:34:18.197565Z"
    }
   },
   "outputs": [],
   "source": []
  },
  {
   "cell_type": "markdown",
   "metadata": {},
   "source": [
    "### [DataFrames](https://pandas.pydata.org)\n",
    "  \n",
    "```python\n",
    "DataFrame.dtypes                        # column labels & data types\n",
    "DataFrame.head(n)                       # return first n rows\n",
    "DataFrame.columns                       # column labels\n",
    "DataFrame.size                          # number (int) elements\n",
    "DataFrame.memory_usage([index, deep])   # each column memory (bytes)\n",
    "DataFrame.empty                         # empty\n",
    "DataFrame.is_copy                       # return copy\n",
    "DataFrame.read_csv('data/15Pct.csv')    # read in CSV file\n",
    "DataFrame.to_csv ('opty.csv')           # write to csv file\n",
    "DataFrame.pd.read_excel('xlsxfile', 'Sheet1') # read excel file\n",
    "DataFrame.ExcelWriter('xlsxfile')  \n",
    "DataFrame.to_excel('writer', 'Sheet1')  \n",
    "writer.save()  \n",
    "frame.to_excel('examples/ex2.xlsx')  \n",
    "ex_out_path = \"~/Four Winds Interactive/Marketing - Documents/s_data/\"\n",
    "ex_out_file = \"pardotout.xlsx\"\n",
    "ex_path = os.path.join(ex_out_path, ex_file)\n",
    "writer = pd.ExcelWriter(ospath(ex_in_path)+ex_out_file, engine = 'xlsxwriter')\n",
    "df_opty.to_excel(writer)\n",
    "writer.save()    \n",
    "```\n",
    "\n",
    "### [Salesforce get functions](https://developer.salesforce.com/docs/api-explorer)\n",
    "\n",
    "Create file /root/.sfdc with credentials as:  \n",
    "username  \n",
    "password  \n",
    "token  \n",
    "uid\n",
    "instance\n",
    "\n",
    "authenticate \n",
    "```python\n",
    "from salesforce_reporting import Connection, ReportParser\n",
    "with open('.sfdc') as f:\n",
    "    username, password, token, uid, instance = [x.strip(\"\\n\") for x in f.readlines()]\n",
    "sf = Salesforce(username=username, password=password, security_token=token, sandbox=False)\n",
    "sf = Salesforce(username=uname, password=spass, security_token=stoken)          # authenticate\n",
    "end = datetime.datetime.now(pytz.UTC)                                           # salesforce API requires UTC\n",
    "# print(\"Session ID:\", session_id)\n",
    "# print(\"Instance:\", sf_instance)\n",
    "# print(\"Version:\", sf_version)\n",
    "print(\"@ \", end)\n",
    "```\n",
    "\n",
    "pull report \n",
    "``` python\n",
    "report = sf.get_report(_Customer_Cloud_T3)\n",
    "parser = salesforce_reporting.ReportParser(report)\n",
    "items = parser.records()\n",
    "labels = parser._get_field_labels()\n",
    "headers = [labels[i] for i in labels]\n",
    "items.insert(0, headers)\n",
    "df0 = pd.DataFrame(items)\n",
    "header = df0.iloc[0]\n",
    "df0 = df0.drop([0])\n",
    "df0.columns = header\n",
    "```\n",
    "\n",
    "query\n",
    "```python\n",
    "ContactDict = sf.query(\"SELECT Company, CreatedDate, Email, FirstName, Industry, LastName, LeadSource, Title FROM Lead ORDER BY CreatedDate DESC NULLS FIRST LIMIT 50\")\n",
    "\n",
    "opportunity_amounts = sf.query(\"SELECT Id, Probability, StageName, Amount, Owner.Name FROM Opportunity WHERE AMOUNT < 10000\")\n",
    "\n",
    "amounts = [x['Amount'] for x in opportunity_amounts['records']]\n",
    "owners = [x['Owner']['Name'] for x in opportunity_amounts['records']]\n",
    "hist1 = go.Histogram(x=amounts)\n",
    "py.iplot([hist1], filename='salesforce/opportunity-probability-histogram')\n",
    "\n",
    "sf.Contact.updated(end - datetime.timedelta(days=10), end)       # contacts updated last 10d\n",
    "contact = sf.Contact.get('003e0000003GuNXAA0')                   # 18 digit id\n",
    "metadata = sf.Contact.metadata()\n",
    "describe = sf.Contact.describe()\n",
    "```\n",
    "\n",
    "read into dataframe\n",
    "```python\n",
    "df = pd.DataFrame(ContactDict['records'])\n",
    "df.head(10)\n",
    "Age = df['Age__c']\n",
    "Age.head(10)\n",
    "agePlot = Age.hist(bins=10)\n",
    "```"
   ]
  },
  {
   "cell_type": "code",
   "execution_count": null,
   "metadata": {},
   "outputs": [],
   "source": []
  }
 ],
 "metadata": {
  "kernelspec": {
   "display_name": "Python 3",
   "language": "python",
   "name": "python3"
  },
  "language_info": {
   "codemirror_mode": {
    "name": "ipython",
    "version": 3
   },
   "file_extension": ".py",
   "mimetype": "text/x-python",
   "name": "python",
   "nbconvert_exporter": "python",
   "pygments_lexer": "ipython3",
   "version": "3.7.3"
  }
 },
 "nbformat": 4,
 "nbformat_minor": 2
}
